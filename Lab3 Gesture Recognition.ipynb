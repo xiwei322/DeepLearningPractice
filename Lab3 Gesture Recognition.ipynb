{
 "cells": [
  {
   "cell_type": "markdown",
   "metadata": {
    "colab_type": "text",
    "id": "X6WDvajSqIDs"
   },
   "source": [
    "# Lab 3: Gesture Recognition using Convolutional Neural Networks\n",
    "\n",
    "In this lab you will train a convolutional neural network to make classifications on different hand gestures. By the end of the lab, you should be able to:\n",
    "\n",
    "1. Load and split data for training, validation and testing\n",
    "2. Train a Convolutional Neural Network\n",
    "3. Apply transfer learning to improve your model\n",
    "\n",
    "Note that for this lab we will not be providing you with any starter code. You should be able to take the code used in previous labs, tutorials and lectures and modify it accordingly to complete the tasks outlined below.\n",
    "\n",
    "### What to submit\n",
    "\n",
    "Submit a PDF file containing all your code, outputs, and write-up\n",
    "from parts 1-5. You can produce a PDF of your Google Colab file by\n",
    "going to **File > Print** and then save as PDF. The Colab instructions\n",
    "has more information. Make sure to review the PDF submission to ensure that your answers are easy to read. Make sure that your text is not cut off at the margins. \n",
    "\n",
    "**Do not submit any other files produced by your code.**\n",
    "\n",
    "Include a link to your colab file in your submission.\n",
    "\n",
    "Please use Google Colab to complete this assignment. If you want to use Jupyter Notebook, please complete the assignment and upload your Jupyter Notebook file to Google Colab for submission. "
   ]
  },
  {
   "cell_type": "markdown",
   "metadata": {
    "colab_type": "text",
    "id": "LfiFE_WOqIDu"
   },
   "source": [
    "## Colab Link\n",
    "\n",
    "Include a link to your colab file here\n",
    "\n",
    "Colab Link: "
   ]
  },
  {
   "cell_type": "markdown",
   "metadata": {
    "colab_type": "text",
    "id": "kvTXpH_kqIDy"
   },
   "source": [
    "## Dataset\n",
    "\n",
    "American Sign Language (ASL) is a complete, complex language that employs signs made by moving the\n",
    "hands combined with facial expressions and postures of the body. It is the primary language of many\n",
    "North Americans who are deaf and is one of several communication options used by people who are deaf or\n",
    "hard-of-hearing. The hand gestures representing English alphabet are shown below. This lab focuses on classifying a subset\n",
    "of these hand gesture images using convolutional neural networks. Specifically, given an image of a hand\n",
    "showing one of the letters A-I, we want to detect which letter is being represented.\n",
    "\n",
    "![alt text](https://www.disabled-world.com/pics/1/asl-alphabet.jpg)"
   ]
  },
  {
   "cell_type": "markdown",
   "metadata": {
    "colab_type": "text",
    "id": "bJxMgWGNqID2"
   },
   "source": [
    "## Part B. Building a CNN [50 pt]\n",
    "\n",
    "For this lab, we are not going to give you any starter code. You will be writing a convolutional neural network\n",
    "from scratch. You are welcome to use any code from previous labs, lectures and tutorials. You should also\n",
    "write your own code.\n",
    "\n",
    "You may use the PyTorch documentation freely. You might also find online tutorials helpful. However, all\n",
    "code that you submit must be your own.\n",
    "\n",
    "Make sure that your code is vectorized, and does not contain obvious inefficiencies (for example, unecessary\n",
    "for loops, or unnecessary calls to unsqueeze()). Ensure enough comments are included in the code so that\n",
    "your TA can understand what you are doing. It is your responsibility to show that you understand what you\n",
    "write.\n",
    "\n",
    "**This is much more challenging and time-consuming than the previous labs.** Make sure that you\n",
    "give yourself plenty of time by starting early."
   ]
  },
  {
   "cell_type": "markdown",
   "metadata": {
    "colab_type": "text",
    "id": "MiDuQaAh56sT"
   },
   "source": [
    "### 1. Data Loading and Splitting [5 pt]\n",
    "\n",
    "Download the anonymized data provided on Quercus. To allow you to get a heads start on this project we will provide you with sample data from previous years. Split the data into training, validation, and test sets.\n",
    "\n",
    "Note: Data splitting is not as trivial in this lab. We want our test set to closely resemble the setting in which\n",
    "our model will be used. In particular, our test set should contain hands that are never seen in training!\n",
    "\n",
    "Explain how you split the data, either by describing what you did, or by showing the code that you used.\n",
    "Justify your choice of splitting strategy. How many training, validation, and test images do you have?\n",
    "\n",
    "For loading the data, you can use plt.imread as in Lab 1, or any other method that you choose. You may find\n",
    "torchvision.datasets.ImageFolder helpful. (see https://pytorch.org/docs/stable/torchvision/datasets.html?highlight=image%20folder#torchvision.datasets.ImageFolder\n",
    ") "
   ]
  },
  {
   "cell_type": "code",
   "execution_count": null,
   "metadata": {
    "colab": {},
    "colab_type": "code",
    "collapsed": true,
    "id": "WBrH5kBqRLa6",
    "jupyter": {
     "outputs_hidden": true
    }
   },
   "outputs": [],
   "source": []
  },
  {
   "cell_type": "markdown",
   "metadata": {
    "colab_type": "text",
    "id": "5VWX4DGY5gQE"
   },
   "source": [
    "### 2. Model Building and Sanity Checking [15 pt]\n",
    "\n",
    "### Part (a) Convolutional Network - 5 pt\n",
    "\n",
    "Build a convolutional neural network model that takes the (224x224 RGB) image as input, and predicts the gesture\n",
    "letter. Your model should be a subclass of nn.Module. Explain your choice of neural network architecture: how\n",
    "many layers did you choose? What types of layers did you use? Were they fully-connected or convolutional?\n",
    "What about other decisions like pooling layers, activation functions, number of channels / hidden units?"
   ]
  },
  {
   "cell_type": "code",
   "execution_count": null,
   "metadata": {
    "colab": {},
    "colab_type": "code",
    "collapsed": true,
    "id": "2dtx1z5951fS",
    "jupyter": {
     "outputs_hidden": true
    }
   },
   "outputs": [],
   "source": []
  },
  {
   "cell_type": "markdown",
   "metadata": {
    "colab_type": "text",
    "id": "XeGvelvb515e"
   },
   "source": [
    "### Part (b) Training Code - 5 pt\n",
    "\n",
    "Write code that trains your neural network given some training data. Your training code should make it easy\n",
    "to tweak the usual hyperparameters, like batch size, learning rate, and the model object itself. Make sure\n",
    "that you are checkpointing your models from time to time (the frequency is up to you). Explain your choice\n",
    "of loss function and optimizer."
   ]
  },
  {
   "cell_type": "code",
   "execution_count": null,
   "metadata": {
    "colab": {},
    "colab_type": "code",
    "collapsed": true,
    "id": "17YTQv4l54W1",
    "jupyter": {
     "outputs_hidden": true
    }
   },
   "outputs": [],
   "source": []
  },
  {
   "cell_type": "markdown",
   "metadata": {
    "colab_type": "text",
    "id": "bk1RNgAj54rZ"
   },
   "source": [
    "### Part (c) “Overfit” to a Small Dataset - 5 pt\n",
    "\n",
    "One way to sanity check our neural network model and training code is to check whether the model is capable\n",
    "of “overfitting” or “memorizing” a small dataset. A properly constructed CNN with correct training code\n",
    "should be able to memorize the answers to a small number of images quickly.\n",
    "\n",
    "Construct a small dataset (e.g. just the images that you have collected). Then show that your model and\n",
    "training code is capable of memorizing the labels of this small data set.\n",
    "\n",
    "With a large batch size (e.g. the entire small dataset) and learning rate that is not too high, You should be\n",
    "able to obtain a 100% training accuracy on that small dataset relatively quickly (within 200 iterations)."
   ]
  },
  {
   "cell_type": "code",
   "execution_count": null,
   "metadata": {
    "colab": {},
    "colab_type": "code",
    "collapsed": true,
    "id": "lXYRBhQO6d3u",
    "jupyter": {
     "outputs_hidden": true
    }
   },
   "outputs": [],
   "source": []
  },
  {
   "cell_type": "markdown",
   "metadata": {
    "colab_type": "text",
    "id": "nvDLw-Vz6eVS"
   },
   "source": [
    "### 3. Hyperparameter Search [15 pt]\n",
    "\n",
    "### Part (a) - 3 pt\n",
    "\n",
    "List 3 hyperparameters that you think are most worth tuning. Choose at least one hyperparameter related to\n",
    "the model architecture."
   ]
  },
  {
   "cell_type": "code",
   "execution_count": null,
   "metadata": {
    "colab": {},
    "colab_type": "code",
    "collapsed": true,
    "id": "HXRQbgMqR_Qy",
    "jupyter": {
     "outputs_hidden": true
    }
   },
   "outputs": [],
   "source": []
  },
  {
   "cell_type": "markdown",
   "metadata": {
    "colab_type": "text",
    "id": "zeD6EzPB6kSW"
   },
   "source": [
    "### Part (b) - 5 pt\n",
    "\n",
    "Tune the hyperparameters you listed in Part (a), trying as many values as you need to until you feel satisfied\n",
    "that you are getting a good model. Plot the training curve of at least 4 different hyperparameter settings."
   ]
  },
  {
   "cell_type": "code",
   "execution_count": null,
   "metadata": {
    "colab": {},
    "colab_type": "code",
    "collapsed": true,
    "id": "UkvdR-cB6nzm",
    "jupyter": {
     "outputs_hidden": true
    }
   },
   "outputs": [],
   "source": []
  },
  {
   "cell_type": "markdown",
   "metadata": {
    "colab_type": "text",
    "id": "H93iN5_l60BO"
   },
   "source": [
    "### Part (c) - 3 pt\n",
    "Choose the best model out of all the ones that you have trained. Justify your choice."
   ]
  },
  {
   "cell_type": "code",
   "execution_count": null,
   "metadata": {
    "colab": {},
    "colab_type": "code",
    "collapsed": true,
    "id": "kIhcN7IG6zRO",
    "jupyter": {
     "outputs_hidden": true
    }
   },
   "outputs": [],
   "source": []
  },
  {
   "cell_type": "markdown",
   "metadata": {
    "colab_type": "text",
    "id": "QzNA5oup67JO"
   },
   "source": [
    "### Part (d) - 4 pt\n",
    "Report the test accuracy of your best model. You should only do this step once and prior to this step you should have only used the training and validation data."
   ]
  },
  {
   "cell_type": "code",
   "execution_count": null,
   "metadata": {
    "colab": {},
    "colab_type": "code",
    "collapsed": true,
    "id": "2eJ7AbVl6-ax",
    "jupyter": {
     "outputs_hidden": true
    }
   },
   "outputs": [],
   "source": []
  },
  {
   "cell_type": "markdown",
   "metadata": {
    "colab_type": "text",
    "id": "Wrem-iXV6_Bz"
   },
   "source": [
    "### 4. Transfer Learning [15 pt]\n",
    "For many image classification tasks, it is generally not a good idea to train a very large deep neural network\n",
    "model from scratch due to the enormous compute requirements and lack of sufficient amounts of training\n",
    "data.\n",
    "\n",
    "One of the better options is to try using an existing model that performs a similar task to the one you need\n",
    "to solve. This method of utilizing a pre-trained network for other similar tasks is broadly termed **Transfer\n",
    "Learning**. In this assignment, we will use Transfer Learning to extract features from the hand gesture\n",
    "images. Then, train a smaller network to use these features as input and classify the hand gestures.\n",
    "\n",
    "As you have learned from the CNN lecture, convolution layers extract various features from the images which\n",
    "get utilized by the fully connected layers for correct classification. AlexNet architecture played a pivotal\n",
    "role in establishing Deep Neural Nets as a go-to tool for image classification problems and we will use an\n",
    "ImageNet pre-trained AlexNet model to extract features in this assignment."
   ]
  },
  {
   "cell_type": "markdown",
   "metadata": {
    "colab_type": "text",
    "id": "rWdQJz4Q7O2F"
   },
   "source": [
    "### Part (a) - 5 pt\n",
    "Here is the code to load the AlexNet network, with pretrained weights. When you first run the code, PyTorch\n",
    "will download the pretrained weights from the internet."
   ]
  },
  {
   "cell_type": "code",
   "execution_count": null,
   "metadata": {
    "colab": {},
    "colab_type": "code",
    "collapsed": true,
    "id": "BJKcTW9C7TZk",
    "jupyter": {
     "outputs_hidden": true
    }
   },
   "outputs": [],
   "source": [
    "import torchvision.models\n",
    "alexnet = torchvision.models.alexnet(pretrained=True)"
   ]
  },
  {
   "cell_type": "markdown",
   "metadata": {
    "colab_type": "text",
    "id": "NQ0GZYaP7VAR"
   },
   "source": [
    "The alexnet model is split up into two components: *alexnet.features* and *alexnet.classifier*. The\n",
    "first neural network component, *alexnet.features*, is used to compute convolutional features, which are\n",
    "taken as input in *alexnet.classifier*.\n",
    "\n",
    "The neural network alexnet.features expects an image tensor of shape Nx3x224x224 as input and it will\n",
    "output a tensor of shape Nx256x6x6 . (N = batch size).\n",
    "\n",
    "Compute the AlexNet features for each of your training, validation, and test data. Here is an example code\n",
    "snippet showing how you can compute the AlexNet features for some images (your actual code might be\n",
    "different):"
   ]
  },
  {
   "cell_type": "code",
   "execution_count": null,
   "metadata": {
    "colab": {},
    "colab_type": "code",
    "collapsed": true,
    "id": "oX7SjVdB7XAE",
    "jupyter": {
     "outputs_hidden": true
    }
   },
   "outputs": [],
   "source": [
    "# img = ... a PyTorch tensor with shape [N,3,224,224] containing hand images ...\n",
    "features = alexnet.features(img)"
   ]
  },
  {
   "cell_type": "markdown",
   "metadata": {
    "colab_type": "text",
    "id": "DYcjHg_A7cCM"
   },
   "source": [
    "**Save the computed features**. You will be using these features as input to your neural network in Part\n",
    "(b), and you do not want to re-compute the features every time. Instead, run *alexnet.features* once for\n",
    "each image, and save the result."
   ]
  },
  {
   "cell_type": "code",
   "execution_count": null,
   "metadata": {
    "colab": {},
    "colab_type": "code",
    "collapsed": true,
    "id": "TBo1BpL373LX",
    "jupyter": {
     "outputs_hidden": true
    }
   },
   "outputs": [],
   "source": []
  },
  {
   "cell_type": "markdown",
   "metadata": {
    "colab_type": "text",
    "id": "OFWvvhFN73qY"
   },
   "source": [
    "### Part (b) - 3 pt\n",
    "Build a convolutional neural network model that takes as input these AlexNet features, and makes a\n",
    "prediction. Your model should be a subclass of nn.Module.\n",
    "\n",
    "Explain your choice of neural network architecture: how many layers did you choose? What types of layers\n",
    "did you use: fully-connected or convolutional? What about other decisions like pooling layers, activation\n",
    "functions, number of channels / hidden units in each layer?\n",
    "\n",
    "Here is an example of how your model may be called:"
   ]
  },
  {
   "cell_type": "code",
   "execution_count": null,
   "metadata": {
    "colab": {},
    "colab_type": "code",
    "collapsed": true,
    "id": "oVTuHUeV78-U",
    "jupyter": {
     "outputs_hidden": true
    }
   },
   "outputs": [],
   "source": [
    "# features = ... load precomputed alexnet.features(img) ...\n",
    "output = model(features)\n",
    "prob = F.softmax(output)"
   ]
  },
  {
   "cell_type": "markdown",
   "metadata": {
    "colab_type": "text",
    "id": "wVAGuURu7-9q"
   },
   "source": [
    "### Part (c) - 5 pt\n",
    "Train your new network, including any hyperparameter tuning. Plot and submit the training curve of your\n",
    "best model only.\n",
    "\n",
    "Note: Depending on how you are caching (saving) your AlexNet features, PyTorch might still be tracking\n",
    "updates to the **AlexNet weights**, which we are not tuning. One workaround is to convert your AlexNet\n",
    "feature tensor into a numpy array, and then back into a PyTorch tensor."
   ]
  },
  {
   "cell_type": "code",
   "execution_count": null,
   "metadata": {
    "colab": {},
    "colab_type": "code",
    "collapsed": true,
    "id": "JCmiH11x7-q1",
    "jupyter": {
     "outputs_hidden": true
    }
   },
   "outputs": [],
   "source": [
    "tensor = torch.from_numpy(tensor.detach().numpy())"
   ]
  },
  {
   "cell_type": "markdown",
   "metadata": {
    "colab_type": "text",
    "id": "hQ2tvqJ68Mqb"
   },
   "source": [
    "### Part (d) - 2 pt\n",
    "Report the test accuracy of your best model. How does the test accuracy compare to Part 3(d) without transfer learning?"
   ]
  },
  {
   "cell_type": "code",
   "execution_count": null,
   "metadata": {
    "colab": {},
    "colab_type": "code",
    "collapsed": true,
    "id": "yCp_kFSg8Q2T",
    "jupyter": {
     "outputs_hidden": true
    }
   },
   "outputs": [],
   "source": []
  }
 ],
 "metadata": {
  "colab": {
   "collapsed_sections": [],
   "name": "Lab 3 - Gesture Recognition.ipynb",
   "provenance": []
  },
  "kernelspec": {
   "display_name": "Python 3 (ipykernel)",
   "language": "python",
   "name": "python3"
  },
  "language_info": {
   "codemirror_mode": {
    "name": "ipython",
    "version": 3
   },
   "file_extension": ".py",
   "mimetype": "text/x-python",
   "name": "python",
   "nbconvert_exporter": "python",
   "pygments_lexer": "ipython3",
   "version": "3.9.4"
  }
 },
 "nbformat": 4,
 "nbformat_minor": 4
}

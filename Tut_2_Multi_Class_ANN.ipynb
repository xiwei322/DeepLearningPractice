{
  "nbformat": 4,
  "nbformat_minor": 0,
  "metadata": {
    "colab": {
      "provenance": []
    },
    "kernelspec": {
      "display_name": "Python 3",
      "language": "python",
      "name": "python3"
    },
    "language_info": {
      "codemirror_mode": {
        "name": "ipython",
        "version": 3
      },
      "file_extension": ".py",
      "mimetype": "text/x-python",
      "name": "python",
      "nbconvert_exporter": "python",
      "pygments_lexer": "ipython3",
      "version": "3.7.4"
    }
  },
  "cells": [
    {
      "cell_type": "markdown",
      "metadata": {
        "id": "K6x62xMrvYsy"
      },
      "source": [
        "## Tutorial 2 - Multi-Class ANNs"
      ]
    },
    {
      "cell_type": "markdown",
      "metadata": {
        "id": "e1Mmucb8tjca"
      },
      "source": [
        "### Project Motivation\n",
        "\n",
        "In the lectures we have seen how Multi-Class Artificial Neural Networks (ANNs) can be trained and tested to classify handwritten digits. To truly appreciate this capability we will see if we can apply our ANN model to work with real images.\n",
        "\n",
        "For example given a blank white sheet of paper with a hand written digit on it, how could we use an ANN model to correctly identify the digit. That will be our objective in this tutorial and along the way you will learn a few tricks to speed the training of your models."
      ]
    },
    {
      "cell_type": "markdown",
      "metadata": {
        "id": "6tBDXHq2O21o"
      },
      "source": [
        "### MNIST Multi-Class Classification\n",
        "\n",
        "To begin, let us load the MNIST dataset and divide it for training and validation. Note that we have left some of the 60,000 samples for final testing of the model."
      ]
    },
    {
      "cell_type": "code",
      "metadata": {
        "id": "5ijcHOPvjycm"
      },
      "source": [
        "# obtain data\n",
        "from torchvision import datasets, transforms\n",
        "\n",
        "mnist_data = datasets.MNIST('data', train=True, download=True, transform=transforms.ToTensor())\n",
        "mnist_data = list(mnist_data)\n",
        "mnist_train = mnist_data[:4096]\n",
        "mnist_val   = mnist_data[4096:5120]"
      ],
      "execution_count": null,
      "outputs": []
    },
    {
      "cell_type": "markdown",
      "metadata": {
        "id": "yquv5GYb0N31"
      },
      "source": [
        "### Multi-Class ANN Architecture\n",
        "In this example we will be using a 3-layer ANN with ReLU activation functions applied on the first and second hidden layers. The softmax activation will be used for outputting class probabilities and is not included in the architecture setup."
      ]
    },
    {
      "cell_type": "code",
      "metadata": {
        "id": "tRLaDEG9j2p5"
      },
      "source": [
        "import torch\n",
        "import torch.nn as nn\n",
        "import torch.nn.functional as F\n",
        "\n",
        "import matplotlib.pyplot as plt # for plotting\n",
        "import torch.optim as optim #for gradient descent\n",
        "\n",
        "torch.manual_seed(1) # set the random seed\n",
        "\n",
        "class MNISTClassifier(nn.Module):\n",
        "    def __init__(self):\n",
        "        super(MNISTClassifier, self).__init__()\n",
        "        self.layer1 = nn.Linear(784, 50)\n",
        "        self.layer2 = nn.Linear(50, 20)\n",
        "        self.layer3 = nn.Linear(20, 10)\n",
        "    def forward(self, img):\n",
        "        flattened = img.view(-1, 28 * 28)\n",
        "        activation1 = F.relu(self.layer1(flattened))\n",
        "        activation2 = F.relu(self.layer2(activation1))\n",
        "        output = self.layer3(activation2)\n",
        "        return output\n",
        "\n",
        "model = MNISTClassifier()\n",
        "\n",
        "print('done')"
      ],
      "execution_count": null,
      "outputs": []
    },
    {
      "cell_type": "markdown",
      "metadata": {
        "id": "-SiuzX-Z1BlZ"
      },
      "source": [
        "### Function to Obtain Accuracy\n",
        "The get_accuracy function is used to compute the accuracy on training or validation data."
      ]
    },
    {
      "cell_type": "code",
      "metadata": {
        "id": "yKekyWFBkBQW"
      },
      "source": [
        "def get_accuracy(model, train=False):\n",
        "    if train:\n",
        "        data = mnist_train\n",
        "    else:\n",
        "        data = mnist_val\n",
        "\n",
        "    correct = 0\n",
        "    total = 0\n",
        "    for imgs, labels in torch.utils.data.DataLoader(data, batch_size=64):\n",
        "        output = model(imgs)\n",
        "        #select index with maximum prediction score\n",
        "        pred = output.max(1, keepdim=True)[1]\n",
        "        correct += pred.eq(labels.view_as(pred)).sum().item()\n",
        "        total += imgs.shape[0]\n",
        "    return correct / total\n",
        "\n",
        "print ('done')"
      ],
      "execution_count": null,
      "outputs": []
    },
    {
      "cell_type": "markdown",
      "metadata": {
        "id": "GmPvsefY1nbJ"
      },
      "source": [
        "### Function to perform Training and Validation\n",
        "The train function puts everything together. You can provide arguments to adjust the batch size and number of training epochs."
      ]
    },
    {
      "cell_type": "code",
      "metadata": {
        "id": "xhg5emvhO2OU"
      },
      "source": [
        "def train(model, data, batch_size=64, num_epochs=1 , print_stat = 1):\n",
        "    train_loader = torch.utils.data.DataLoader(data, batch_size=batch_size)\n",
        "    criterion = nn.CrossEntropyLoss()\n",
        "    optimizer = optim.SGD(model.parameters(), lr=0.01, momentum=0.9)\n",
        "\n",
        "    iters, losses, train_acc, val_acc = [], [], [], []\n",
        "\n",
        "    # training\n",
        "    n = 0 # the number of iterations\n",
        "    for epoch in range(num_epochs):\n",
        "        for imgs, labels in iter(train_loader):\n",
        "            out = model(imgs)             # forward pass\n",
        "            loss = criterion(out, labels) # compute the total loss\n",
        "            loss.backward()               # backward pass (compute parameter updates)\n",
        "            optimizer.step()              # make the updates for each parameter\n",
        "            optimizer.zero_grad()         # a clean up step for PyTorch\n",
        "\n",
        "            # save the current training information\n",
        "            iters.append(n)\n",
        "            losses.append(float(loss)/batch_size)             # compute *average* loss\n",
        "            train_acc.append(get_accuracy(model, train=True)) # compute training accuracy\n",
        "            val_acc.append(get_accuracy(model, train=False))  # compute validation accuracy\n",
        "            n += 1\n",
        "\n",
        "    if print_stat:\n",
        "      # plotting\n",
        "      plt.title(\"Training Curve\")\n",
        "      plt.plot(iters, losses, label=\"Train\")\n",
        "      plt.xlabel(\"Iterations\")\n",
        "      plt.ylabel(\"Loss\")\n",
        "      plt.show()\n",
        "\n",
        "      plt.title(\"Training Curve\")\n",
        "      plt.plot(iters, train_acc, label=\"Train\")\n",
        "      plt.plot(iters, val_acc, label=\"Validation\")\n",
        "      plt.xlabel(\"Iterations\")\n",
        "      plt.ylabel(\"Training Accuracy\")\n",
        "      plt.legend(loc='best')\n",
        "      plt.show()\n",
        "\n",
        "      print(\"Final Training Accuracy: {}\".format(train_acc[-1]))\n",
        "      print(\"Final Validation Accuracy: {}\".format(val_acc[-1]))\n",
        "\n",
        "\n",
        "\n",
        "print('done')"
      ],
      "execution_count": null,
      "outputs": []
    },
    {
      "cell_type": "markdown",
      "metadata": {
        "id": "TiMfDKEi2efq"
      },
      "source": [
        "### (optional) Sanity Check\n",
        "Verify that the model is able to overfit on a single batch of data."
      ]
    },
    {
      "cell_type": "code",
      "metadata": {
        "id": "KaFseq7qkHL6"
      },
      "source": [
        "#overfitting the model (sanity check)\n",
        "debug_data = mnist_train[:64]\n",
        "model = MNISTClassifier()\n",
        "train(model, debug_data, num_epochs=500, print_stat=0)"
      ],
      "execution_count": null,
      "outputs": []
    },
    {
      "cell_type": "code",
      "source": [
        "#obtain accuracy on 64 samples\n",
        "correct = 0\n",
        "total = 0\n",
        "for imgs, labels in torch.utils.data.DataLoader(debug_data, batch_size=64):\n",
        "    output = model(imgs)\n",
        "    #select index with maximum prediction score\n",
        "    pred = output.max(1, keepdim=True)[1]\n",
        "    correct += pred.eq(labels.view_as(pred)).sum().item()\n",
        "    total += imgs.shape[0]\n",
        "print('Accuracy on batch of 64: ', correct / total)"
      ],
      "metadata": {
        "id": "DDMCz9jfkatv"
      },
      "execution_count": null,
      "outputs": []
    },
    {
      "cell_type": "markdown",
      "metadata": {
        "id": "0V7lwJ8c7mCP"
      },
      "source": [
        "If we set `print_stat=1`, note the Final Training and Validation accuracy is obtained on the full training data and validation data. It does not reflect the performance on the 64 samples that were overfit."
      ]
    },
    {
      "cell_type": "markdown",
      "metadata": {
        "id": "t3iEpnAp2vxG"
      },
      "source": [
        "### Run Training and Validation\n",
        "Now that we've validated that our model can overfit a relatively small amount of training data (i.e. 64 samples), we can proceed to train our model on all of the training data.\n",
        "\n",
        "We will be training our model over 5 epochs (how many training iterations is that?) to ensure that we can complete this tutorial in a reasonable time. In your free time you are welcome to explore the model accuracy as you increase the number of epochs.  "
      ]
    },
    {
      "cell_type": "code",
      "metadata": {
        "id": "sS4CesVbk4M_"
      },
      "source": [
        "#proper model\n",
        "model = MNISTClassifier()\n",
        "train(model, mnist_train, num_epochs=5)"
      ],
      "execution_count": null,
      "outputs": []
    },
    {
      "cell_type": "markdown",
      "metadata": {
        "id": "2JdgEbrk247X"
      },
      "source": [
        "### (optional) Additional Training\n",
        "At this stage we can consider adjusting our model architecture:\n",
        "- number of hidden layers,\n",
        "- hidden units,\n",
        "- activation functions,\n",
        "- optimizers,\n",
        "- learning rate,\n",
        "- momentum,\n",
        "- batch size,\n",
        "- training iterations,\n",
        "\n",
        "to evaluate the performance of our ANN model. Can we do better?\n",
        "\n",
        "**Tip:** Once you have searched through the hyperparameters and found model parameters that work reasonably well. You may want to save your model so that you don't have to retrain the model next time you open the Google Colab file."
      ]
    },
    {
      "cell_type": "code",
      "metadata": {
        "id": "PbHuVE-l-HbP"
      },
      "source": [
        "# save the model for next time\n",
        "torch.save(model.state_dict(), \"saved_model\")"
      ],
      "execution_count": null,
      "outputs": []
    },
    {
      "cell_type": "code",
      "source": [
        "#load a saved model\n",
        "model = MNISTClassifier() # step 1: Initialize the model\n",
        "model.load_state_dict(torch.load(\"saved_model\")) # Step 2: Load the trained parameters"
      ],
      "metadata": {
        "id": "ye6AC-nWSYWi"
      },
      "execution_count": null,
      "outputs": []
    },
    {
      "cell_type": "markdown",
      "metadata": {
        "id": "sKVU13bXlHgk"
      },
      "source": [
        "### Test one image\n",
        "At this point we have trained our model and observed accuracy scores on the training data and validation data. We haven't really looked at the data. For the next stage of the tutorial we will try to understand what the data looks like and consider what is required to classify new images obtained from the internet, or even our cell phone camera."
      ]
    },
    {
      "cell_type": "code",
      "metadata": {
        "id": "znrJoUqNlWdu"
      },
      "source": [
        "#laod new image for testing\n",
        "mnist_sample = mnist_data[19120] #samples with indices > 5120 can be used for testing\n",
        "img, label = list(mnist_sample) #obtain a single image and label\n",
        "\n",
        "#plot sample image\n",
        "print('image dimensions: ', img.shape)\n",
        "plt.imshow(img.view(-1,28),cmap='Greys') #make image 28 x 28 (not 1 x 28 x 28 as required by model)\n",
        "\n",
        "#test new image\n",
        "out = model(img)\n",
        "prob = F.softmax(out, dim=1)\n",
        "print('output dimensions: ', out.shape)\n",
        "print('output probabilities: ', prob, 'sum: ', torch.sum(prob))\n",
        "\n",
        "#print max index and compare with label\n",
        "print('output: ', prob.max(1, keepdim=True)[1].item(), 'with a probability of', prob.max(1, keepdim=True)[0].item())\n",
        "print('label: ', label)"
      ],
      "execution_count": null,
      "outputs": []
    },
    {
      "cell_type": "markdown",
      "metadata": {
        "id": "qFDGZpKpN3En"
      },
      "source": [
        "### Exploring the MNIST data\n",
        "Before we can load new data for testing we should understand what preprocessing went into making the training data. We will explore:\n",
        "- Data Type\n",
        "- Data Dimensions\n",
        "- Data Normalization\n",
        "- Orientation"
      ]
    },
    {
      "cell_type": "code",
      "metadata": {
        "id": "B10pYF2aPJNS"
      },
      "source": [
        "# data type\n",
        "print(img.dtype)"
      ],
      "execution_count": null,
      "outputs": []
    },
    {
      "cell_type": "code",
      "metadata": {
        "id": "SkADH8L9O5QN"
      },
      "source": [
        "# data dimensions\n",
        "print(img.shape)"
      ],
      "execution_count": null,
      "outputs": []
    },
    {
      "cell_type": "code",
      "metadata": {
        "id": "tMyDOy61gp7X"
      },
      "source": [
        "# max and min values\n",
        "print('min val:', torch.min(img).item(), '  max val:', torch.max(img).item())\n",
        "\n",
        "#histogram of values\n",
        "plt.hist(img.view(-1,28*28), bins=30)\n",
        "plt.show()"
      ],
      "execution_count": null,
      "outputs": []
    },
    {
      "cell_type": "markdown",
      "metadata": {
        "id": "wowo4MYmQQh_"
      },
      "source": [
        "Now that we know a little bit about our data we should be able to generate new samples of the data."
      ]
    },
    {
      "cell_type": "markdown",
      "metadata": {
        "id": "kFCMy36-SbI9"
      },
      "source": [
        "### Trying a new sample"
      ]
    },
    {
      "cell_type": "code",
      "metadata": {
        "id": "X65Xscysllkq"
      },
      "source": [
        "import numpy as np\n",
        "import matplotlib.pyplot as plt\n",
        "import urllib.request\n",
        "from PIL import Image\n",
        "\n",
        "#load an image with black and white matching the MNIST data\n",
        "url = 'https://encrypted-tbn0.gstatic.com/images?q=tbn:ANd9GcT5ZR8ImWkYVd2FRMZgUvCdNkHx0uKjjSAtTEJ0U-x0SPWQFxqnbg'\n",
        "response = urllib.request.urlopen(url)\n",
        "img_new = np.array(Image.open(response))\n",
        "\n",
        "print('Image Dimensions', img_new.shape)\n",
        "\n",
        "plt.title(\"New Image\")\n",
        "plt.imshow(img_new ,  cmap='Greys')\n",
        "plt.show()\n",
        "\n",
        "# compare to original MNIST image\n",
        "plt.title(\"Original MNIST\")\n",
        "plt.imshow(img.view(-1,28) ,  cmap='Greys')"
      ],
      "execution_count": null,
      "outputs": []
    },
    {
      "cell_type": "markdown",
      "metadata": {
        "id": "gbMh8fqYTG1a"
      },
      "source": [
        "### Cropping the Image\n",
        "The images used to train our model were centered on the handwritten digit and resized to 28 x 28 pixesl. We will need to do the same to our new data in order for it work with our Multi-Class ANN model."
      ]
    },
    {
      "cell_type": "code",
      "metadata": {
        "id": "flRxtggCmRBX"
      },
      "source": [
        "#cropping\n",
        "img_cropped = img_new[95:120,5:33]\n",
        "plt.title(\"Image Cropped\")\n",
        "plt.imshow(img_cropped, cmap='Greys')\n",
        "plt.show()\n",
        "\n",
        "#resize image\n",
        "from skimage.transform import rescale, resize, downscale_local_mean\n",
        "img_resized = resize(img_cropped, (28,28), anti_aliasing=True)\n",
        "\n",
        "#plot resized image\n",
        "plt.title(\"Image Resized\")\n",
        "plt.imshow(img_resized , cmap='Greys')\n",
        "plt.show()\n",
        "\n",
        "#image max and min values\n",
        "print(np.amax(img_resized))\n",
        "print(np.amin(img_resized))\n",
        "\n",
        "#normalize to range 0 to 1\n",
        "img_resized = img_resized / np.amax(img_resized)\n",
        "plt.title(\"Image Normalized\")\n",
        "plt.imshow(img_resized, cmap='Greys')\n",
        "plt.show()\n",
        "\n",
        "#verify max and min values\n",
        "print(np.amax(img_resized))\n",
        "print(np.amin(img_resized))\n"
      ],
      "execution_count": null,
      "outputs": []
    },
    {
      "cell_type": "markdown",
      "metadata": {
        "id": "ngzTgm7JUoxk"
      },
      "source": [
        "If required, how could you invert the colours?"
      ]
    },
    {
      "cell_type": "markdown",
      "metadata": {
        "id": "rzDHURiVU280"
      },
      "source": [
        "### Testing a New External Image"
      ]
    },
    {
      "cell_type": "code",
      "metadata": {
        "id": "WqCkIOTFrfWv"
      },
      "source": [
        "#test new external image\n",
        "\n",
        "#plot resized image\n",
        "plt.title(\"New Image\")\n",
        "plt.imshow(img_resized, cmap='Greys')\n",
        "plt.show()\n",
        "\n",
        "#convert image to torch tensor\n",
        "img_new = torch.tensor(img_resized)\n",
        "print('Initial Dimensions: ', img_new.shape)\n",
        "\n",
        "#make our image match the model dimensions 1 x 28 x 28 and tensor type\n",
        "img_new = img_new.unsqueeze(0).type(torch.FloatTensor)\n",
        "print('Updated Dimensions: ', img_new.shape)\n",
        "\n",
        "#perform forward pass on ANN model and generate an output\n",
        "out = model(img_new)\n",
        "prob = F.softmax(out, dim=1)\n",
        "\n",
        "#examine output properties\n",
        "print('output dimensions: ', out.shape)\n",
        "print('output probabilities: ', prob, 'sum: ', torch.sum(prob))\n",
        "\n",
        "#print max index\n",
        "print('Predicted Output: ', prob.max(1, keepdim=True)[1].item(), 'with a probability of', prob.max(1, keepdim=True)[0].item())"
      ],
      "execution_count": null,
      "outputs": []
    },
    {
      "cell_type": "markdown",
      "metadata": {
        "id": "N3XDF1ouU2hI"
      },
      "source": [
        "How did our Multi-Class ANN model perform? Was it successful on a new image?\n",
        "\n",
        "As a little exercise try to load new images and see if the model can classify them correctly. To start you can modify the code above to crop another portion of the image. Once you are comfortable with that, you can look for new images online, or make your own.\n",
        "\n",
        "**Congratulations! You have just completed a project for handwritten digit recognition**"
      ]
    },
    {
      "cell_type": "markdown",
      "metadata": {
        "id": "039PX7SFZ0vm"
      },
      "source": [
        "## Tutorial Challenges\n",
        "There are just some questions for you to do on your own time."
      ]
    },
    {
      "cell_type": "markdown",
      "metadata": {
        "id": "nOO4yVXVxj11"
      },
      "source": [
        "### Classifications\n",
        "Obtain all classifications on the validation dataset"
      ]
    },
    {
      "cell_type": "code",
      "metadata": {
        "id": "_AoKeGxmxqiK"
      },
      "source": [
        "#write code to obtain all predictions on the validation data set\n",
        "\n",
        "\n",
        "\n",
        "\n",
        "\n"
      ],
      "execution_count": null,
      "outputs": []
    },
    {
      "cell_type": "markdown",
      "metadata": {
        "id": "CeXyB34vaDuN"
      },
      "source": [
        "### Tutorial Challenge 1: Incorrect Classifications\n",
        "Go through all the predictions made on the validation dataset. How many digits were incorrectly classified? Are there any images that the ANN should have been able to classify correctly? View the images that were misclassified to speculate why they were misclassified. For example, you may find some **qualitative results** such as 2's are often mistaken as 3's or 1's are mistaken as 7's. Are there any samples that you would find difficult to classify?"
      ]
    },
    {
      "cell_type": "code",
      "metadata": {
        "id": "gGuLiNHBarPt"
      },
      "source": [
        "#write code to visualize some of the incorrectly classified images\n",
        "\n",
        "\n",
        "\n",
        "\n",
        "\n",
        "\n",
        "\n"
      ],
      "execution_count": null,
      "outputs": []
    },
    {
      "cell_type": "markdown",
      "metadata": {
        "id": "3gHy98YdwpVq"
      },
      "source": [
        "### Confusion Matrix\n",
        "The confusion matrix provide a nice table to visualize the classification performance of your model. Provided below is an example on a 6 sample toy dataset. In the final output the diagonal represents how many samples were correctly classified. For example: if we examine the third row of the result we will see that:\n",
        "\n",
        "- 1 sample was **incorrectly** classified as class 0\n",
        "- 0 samples were **incorrectly** classified as class 1\n",
        "- 2 samples were **correctly** classified as class 2"
      ]
    },
    {
      "cell_type": "code",
      "metadata": {
        "id": "IrPgb5w_wuZi"
      },
      "source": [
        "from sklearn.metrics import confusion_matrix, ConfusionMatrixDisplay\n",
        "\n",
        "y_true = [2, 0, 2, 2, 0, 1]\n",
        "y_pred = [0, 0, 2, 2, 0, 2]\n",
        "\n",
        "cm = confusion_matrix(y_true, y_pred)\n",
        "print(\"Confusion Matrix:\")\n",
        "print (cm)\n",
        "\n",
        "disp = ConfusionMatrixDisplay(confusion_matrix=cm, display_labels=[\"Class 0\", \"Class 1\", \"Class 2\"])\n",
        "disp.plot()\n",
        "plt.show()"
      ],
      "execution_count": null,
      "outputs": []
    },
    {
      "cell_type": "code",
      "source": [
        "#Example from: https://scikit-learn.org/stable/auto_examples/model_selection/plot_confusion_matrix.html\n",
        "import numpy as np\n",
        "import matplotlib.pyplot as plt\n",
        "\n",
        "from sklearn import svm, datasets\n",
        "from sklearn.model_selection import train_test_split\n",
        "from sklearn.metrics import ConfusionMatrixDisplay\n",
        "\n",
        "# import some data to play with\n",
        "iris = datasets.load_iris()\n",
        "X = iris.data\n",
        "y = iris.target\n",
        "class_names = iris.target_names\n",
        "\n",
        "# Split the data into a training set and a test set\n",
        "X_train, X_test, y_train, y_test = train_test_split(X, y, random_state=0)\n",
        "\n",
        "# Run classifier, using a model that is too regularized (C too low) to see\n",
        "# the impact on the results\n",
        "classifier = svm.SVC(kernel=\"linear\", C=0.01).fit(X_train, y_train)\n",
        "\n",
        "np.set_printoptions(precision=2)\n",
        "\n",
        "# Plot non-normalized confusion matrix\n",
        "titles_options = [\n",
        "    (\"Confusion matrix, without normalization\", None),\n",
        "    (\"Normalized confusion matrix\", \"true\"),\n",
        "]\n",
        "for title, normalize in titles_options:\n",
        "    disp = ConfusionMatrixDisplay.from_estimator(\n",
        "        classifier,\n",
        "        X_test,\n",
        "        y_test,\n",
        "        display_labels=class_names,\n",
        "        cmap=plt.cm.Blues,\n",
        "        normalize=normalize,\n",
        "    )\n",
        "    disp.ax_.set_title(title)\n",
        "\n",
        "    print(title)\n",
        "    print(disp.confusion_matrix)\n",
        "\n",
        "plt.show()"
      ],
      "metadata": {
        "id": "9hWx6akZT7Ws"
      },
      "execution_count": null,
      "outputs": []
    },
    {
      "cell_type": "markdown",
      "metadata": {
        "id": "ZsF56vJAZXtM"
      },
      "source": [
        "### Tutorial Challenge 2: Confusion Matrix\n",
        "Continuing with our Multi-Class ANN problem. Obtain all the model predictions along with the labels (ground truths) and feed them into a confusion matrix. What insights can you obtain about the performance of your model? Are there certain digits that your model is better able to classify?"
      ]
    },
    {
      "cell_type": "code",
      "metadata": {
        "id": "fSzA_lQtcRQo"
      },
      "source": [
        "#Write code to obtain a confusion matrix of our multi-class ANN model\n",
        "\n",
        "\n",
        "\n",
        "\n",
        "\n"
      ],
      "execution_count": null,
      "outputs": []
    }
  ]
}